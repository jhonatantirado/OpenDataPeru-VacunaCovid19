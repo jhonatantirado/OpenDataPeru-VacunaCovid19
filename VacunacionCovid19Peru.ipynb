{
 "cells": [
  {
   "cell_type": "code",
   "execution_count": 24,
   "metadata": {},
   "outputs": [],
   "source": [
    "import pandas as pd\n",
    "import matplotlib.pyplot as plt"
   ]
  },
  {
   "cell_type": "code",
   "execution_count": 25,
   "metadata": {},
   "outputs": [],
   "source": [
    "\n",
    "archivo_original = 'vacunas_covid.csv'\n",
    "archivo_limpiado = 'vacunas_covid-limpio.csv'"
   ]
  },
  {
   "cell_type": "code",
   "execution_count": 26,
   "metadata": {},
   "outputs": [
    {
     "data": {
      "text/html": [
       "<div>\n",
       "<style scoped>\n",
       "    .dataframe tbody tr th:only-of-type {\n",
       "        vertical-align: middle;\n",
       "    }\n",
       "\n",
       "    .dataframe tbody tr th {\n",
       "        vertical-align: top;\n",
       "    }\n",
       "\n",
       "    .dataframe thead th {\n",
       "        text-align: right;\n",
       "    }\n",
       "</style>\n",
       "<table border=\"1\" class=\"dataframe\">\n",
       "  <thead>\n",
       "    <tr style=\"text-align: right;\">\n",
       "      <th></th>\n",
       "      <th>FECHA_CORTE</th>\n",
       "      <th>UUID</th>\n",
       "      <th>GRUPO_RIESGO</th>\n",
       "      <th>EDAD</th>\n",
       "      <th>SEXO</th>\n",
       "      <th>FECHA_VACUNACION</th>\n",
       "      <th>DOSIS</th>\n",
       "      <th>FABRICANTE</th>\n",
       "      <th>DIRESA</th>\n",
       "      <th>DEPARTAMENTO</th>\n",
       "      <th>PROVINCIA</th>\n",
       "      <th>DISTRITO</th>\n",
       "    </tr>\n",
       "  </thead>\n",
       "  <tbody>\n",
       "    <tr>\n",
       "      <th>0</th>\n",
       "      <td>20210227</td>\n",
       "      <td>c7ba6f9424c59a543e8803495c1061db</td>\n",
       "      <td>PERSONAL DE SALUD</td>\n",
       "      <td>39.0</td>\n",
       "      <td>MASCULINO</td>\n",
       "      <td>20210225</td>\n",
       "      <td>1</td>\n",
       "      <td>SINOPHARM</td>\n",
       "      <td>LAMBAYEQUE</td>\n",
       "      <td>LAMBAYEQUE</td>\n",
       "      <td>CHICLAYO</td>\n",
       "      <td>CHICLAYO</td>\n",
       "    </tr>\n",
       "    <tr>\n",
       "      <th>1</th>\n",
       "      <td>20210227</td>\n",
       "      <td>51ffbe83478f1e64da17fe2756a9594b</td>\n",
       "      <td>PERSONAL DE SALUD</td>\n",
       "      <td>37.0</td>\n",
       "      <td>FEMENINO</td>\n",
       "      <td>20210219</td>\n",
       "      <td>1</td>\n",
       "      <td>SINOPHARM</td>\n",
       "      <td>LAMBAYEQUE</td>\n",
       "      <td>LAMBAYEQUE</td>\n",
       "      <td>CHICLAYO</td>\n",
       "      <td>JOSE LEONARDO ORTIZ</td>\n",
       "    </tr>\n",
       "    <tr>\n",
       "      <th>2</th>\n",
       "      <td>20210227</td>\n",
       "      <td>54048fe3b06c35f14350d7e81340bdbd</td>\n",
       "      <td>PERSONAL DE SALUD</td>\n",
       "      <td>44.0</td>\n",
       "      <td>MASCULINO</td>\n",
       "      <td>20210220</td>\n",
       "      <td>1</td>\n",
       "      <td>SINOPHARM</td>\n",
       "      <td>LAMBAYEQUE</td>\n",
       "      <td>LAMBAYEQUE</td>\n",
       "      <td>CHICLAYO</td>\n",
       "      <td>JOSE LEONARDO ORTIZ</td>\n",
       "    </tr>\n",
       "    <tr>\n",
       "      <th>3</th>\n",
       "      <td>20210227</td>\n",
       "      <td>746ad64c513b5d53b987ed48a6b45f77</td>\n",
       "      <td>PERSONAL DE SALUD</td>\n",
       "      <td>54.0</td>\n",
       "      <td>FEMENINO</td>\n",
       "      <td>20210220</td>\n",
       "      <td>1</td>\n",
       "      <td>SINOPHARM</td>\n",
       "      <td>LAMBAYEQUE</td>\n",
       "      <td>LAMBAYEQUE</td>\n",
       "      <td>CHICLAYO</td>\n",
       "      <td>JOSE LEONARDO ORTIZ</td>\n",
       "    </tr>\n",
       "    <tr>\n",
       "      <th>4</th>\n",
       "      <td>20210227</td>\n",
       "      <td>80f0a41dd63af3b96d4a80bfab2eaa61</td>\n",
       "      <td>PERSONAL DE SALUD</td>\n",
       "      <td>35.0</td>\n",
       "      <td>FEMENINO</td>\n",
       "      <td>20210225</td>\n",
       "      <td>1</td>\n",
       "      <td>SINOPHARM</td>\n",
       "      <td>LAMBAYEQUE</td>\n",
       "      <td>LAMBAYEQUE</td>\n",
       "      <td>CHICLAYO</td>\n",
       "      <td>CHICLAYO</td>\n",
       "    </tr>\n",
       "  </tbody>\n",
       "</table>\n",
       "</div>"
      ],
      "text/plain": [
       "   FECHA_CORTE                              UUID       GRUPO_RIESGO  EDAD  \\\n",
       "0     20210227  c7ba6f9424c59a543e8803495c1061db  PERSONAL DE SALUD  39.0   \n",
       "1     20210227  51ffbe83478f1e64da17fe2756a9594b  PERSONAL DE SALUD  37.0   \n",
       "2     20210227  54048fe3b06c35f14350d7e81340bdbd  PERSONAL DE SALUD  44.0   \n",
       "3     20210227  746ad64c513b5d53b987ed48a6b45f77  PERSONAL DE SALUD  54.0   \n",
       "4     20210227  80f0a41dd63af3b96d4a80bfab2eaa61  PERSONAL DE SALUD  35.0   \n",
       "\n",
       "        SEXO  FECHA_VACUNACION  DOSIS FABRICANTE      DIRESA DEPARTAMENTO  \\\n",
       "0  MASCULINO          20210225      1  SINOPHARM  LAMBAYEQUE   LAMBAYEQUE   \n",
       "1   FEMENINO          20210219      1  SINOPHARM  LAMBAYEQUE   LAMBAYEQUE   \n",
       "2  MASCULINO          20210220      1  SINOPHARM  LAMBAYEQUE   LAMBAYEQUE   \n",
       "3   FEMENINO          20210220      1  SINOPHARM  LAMBAYEQUE   LAMBAYEQUE   \n",
       "4   FEMENINO          20210225      1  SINOPHARM  LAMBAYEQUE   LAMBAYEQUE   \n",
       "\n",
       "  PROVINCIA             DISTRITO  \n",
       "0  CHICLAYO             CHICLAYO  \n",
       "1  CHICLAYO  JOSE LEONARDO ORTIZ  \n",
       "2  CHICLAYO  JOSE LEONARDO ORTIZ  \n",
       "3  CHICLAYO  JOSE LEONARDO ORTIZ  \n",
       "4  CHICLAYO             CHICLAYO  "
      ]
     },
     "execution_count": 26,
     "metadata": {},
     "output_type": "execute_result"
    }
   ],
   "source": [
    "ds = pd.read_csv(archivo_original)\n",
    "ds.head()"
   ]
  },
  {
   "cell_type": "code",
   "execution_count": 27,
   "metadata": {},
   "outputs": [
    {
     "data": {
      "text/html": [
       "<div>\n",
       "<style scoped>\n",
       "    .dataframe tbody tr th:only-of-type {\n",
       "        vertical-align: middle;\n",
       "    }\n",
       "\n",
       "    .dataframe tbody tr th {\n",
       "        vertical-align: top;\n",
       "    }\n",
       "\n",
       "    .dataframe thead th {\n",
       "        text-align: right;\n",
       "    }\n",
       "</style>\n",
       "<table border=\"1\" class=\"dataframe\">\n",
       "  <thead>\n",
       "    <tr style=\"text-align: right;\">\n",
       "      <th></th>\n",
       "      <th>FECHA_CORTE</th>\n",
       "      <th>EDAD</th>\n",
       "      <th>FECHA_VACUNACION</th>\n",
       "      <th>DOSIS</th>\n",
       "    </tr>\n",
       "  </thead>\n",
       "  <tbody>\n",
       "    <tr>\n",
       "      <th>count</th>\n",
       "      <td>265608.0</td>\n",
       "      <td>265502.000000</td>\n",
       "      <td>2.656080e+05</td>\n",
       "      <td>265608.0</td>\n",
       "    </tr>\n",
       "    <tr>\n",
       "      <th>mean</th>\n",
       "      <td>20210227.0</td>\n",
       "      <td>41.781644</td>\n",
       "      <td>2.021022e+07</td>\n",
       "      <td>1.0</td>\n",
       "    </tr>\n",
       "    <tr>\n",
       "      <th>std</th>\n",
       "      <td>0.0</td>\n",
       "      <td>11.828207</td>\n",
       "      <td>5.332878e+00</td>\n",
       "      <td>0.0</td>\n",
       "    </tr>\n",
       "    <tr>\n",
       "      <th>min</th>\n",
       "      <td>20210227.0</td>\n",
       "      <td>18.000000</td>\n",
       "      <td>2.021021e+07</td>\n",
       "      <td>1.0</td>\n",
       "    </tr>\n",
       "    <tr>\n",
       "      <th>25%</th>\n",
       "      <td>20210227.0</td>\n",
       "      <td>32.000000</td>\n",
       "      <td>2.021021e+07</td>\n",
       "      <td>1.0</td>\n",
       "    </tr>\n",
       "    <tr>\n",
       "      <th>50%</th>\n",
       "      <td>20210227.0</td>\n",
       "      <td>40.000000</td>\n",
       "      <td>2.021022e+07</td>\n",
       "      <td>1.0</td>\n",
       "    </tr>\n",
       "    <tr>\n",
       "      <th>75%</th>\n",
       "      <td>20210227.0</td>\n",
       "      <td>50.000000</td>\n",
       "      <td>2.021022e+07</td>\n",
       "      <td>1.0</td>\n",
       "    </tr>\n",
       "    <tr>\n",
       "      <th>max</th>\n",
       "      <td>20210227.0</td>\n",
       "      <td>75.000000</td>\n",
       "      <td>2.021023e+07</td>\n",
       "      <td>1.0</td>\n",
       "    </tr>\n",
       "  </tbody>\n",
       "</table>\n",
       "</div>"
      ],
      "text/plain": [
       "       FECHA_CORTE           EDAD  FECHA_VACUNACION     DOSIS\n",
       "count     265608.0  265502.000000      2.656080e+05  265608.0\n",
       "mean    20210227.0      41.781644      2.021022e+07       1.0\n",
       "std            0.0      11.828207      5.332878e+00       0.0\n",
       "min     20210227.0      18.000000      2.021021e+07       1.0\n",
       "25%     20210227.0      32.000000      2.021021e+07       1.0\n",
       "50%     20210227.0      40.000000      2.021022e+07       1.0\n",
       "75%     20210227.0      50.000000      2.021022e+07       1.0\n",
       "max     20210227.0      75.000000      2.021023e+07       1.0"
      ]
     },
     "execution_count": 27,
     "metadata": {},
     "output_type": "execute_result"
    }
   ],
   "source": [
    "ds.describe()"
   ]
  },
  {
   "cell_type": "code",
   "execution_count": 28,
   "metadata": {},
   "outputs": [
    {
     "name": "stdout",
     "output_type": "stream",
     "text": [
      "Personas sin edad :  106\n"
     ]
    }
   ],
   "source": [
    "sin_edad = pd.isnull(ds['EDAD'])\n",
    "numOfRows = len(sin_edad[sin_edad == True].index)\n",
    "print('Personas sin edad : ', numOfRows)"
   ]
  },
  {
   "cell_type": "code",
   "execution_count": 29,
   "metadata": {},
   "outputs": [
    {
     "name": "stdout",
     "output_type": "stream",
     "text": [
      "Personas sin sexo :  889\n"
     ]
    }
   ],
   "source": [
    "sin_sexo = pd.isnull(ds['SEXO'])\n",
    "numOfRows = len(sin_sexo[sin_sexo == True].index)\n",
    "print('Personas sin sexo : ', numOfRows)"
   ]
  },
  {
   "cell_type": "code",
   "execution_count": 30,
   "metadata": {},
   "outputs": [],
   "source": [
    "ds.drop('FECHA_CORTE', inplace=True, axis=1)"
   ]
  },
  {
   "cell_type": "code",
   "execution_count": 31,
   "metadata": {},
   "outputs": [],
   "source": [
    "ds.drop('UUID', inplace=True, axis=1)"
   ]
  },
  {
   "cell_type": "code",
   "execution_count": 32,
   "metadata": {},
   "outputs": [],
   "source": [
    "ds_sin_vacios = ds.dropna()"
   ]
  },
  {
   "cell_type": "code",
   "execution_count": 33,
   "metadata": {},
   "outputs": [
    {
     "name": "stderr",
     "output_type": "stream",
     "text": [
      "/Users/av_jtirado/opt/anaconda3/envs/bruisedating/lib/python3.8/site-packages/pandas/core/indexing.py:1765: SettingWithCopyWarning: \n",
      "A value is trying to be set on a copy of a slice from a DataFrame.\n",
      "Try using .loc[row_indexer,col_indexer] = value instead\n",
      "\n",
      "See the caveats in the documentation: https://pandas.pydata.org/pandas-docs/stable/user_guide/indexing.html#returning-a-view-versus-a-copy\n",
      "  isetter(loc, value)\n"
     ]
    }
   ],
   "source": [
    "ds_sin_vacios.loc[ds_sin_vacios['SEXO'] == 'MASCULINO',['SEXO']] = 1"
   ]
  },
  {
   "cell_type": "code",
   "execution_count": 34,
   "metadata": {},
   "outputs": [],
   "source": [
    "ds_sin_vacios.loc[ds_sin_vacios['SEXO'] == 'FEMENINO',['SEXO']] = 0"
   ]
  },
  {
   "cell_type": "code",
   "execution_count": 35,
   "metadata": {},
   "outputs": [],
   "source": [
    "#ds_sin_vacios['SEXO'] = ds_sin_vacios.SEXO.apply(lambda s: 1 if s == 'MASCULINO' else 0)"
   ]
  },
  {
   "cell_type": "code",
   "execution_count": 36,
   "metadata": {},
   "outputs": [
    {
     "data": {
      "image/png": "[encoded data removed]",
      "text/plain": [
       "<Figure size 648x216 with 3 Axes>"
      ]
     },
     "metadata": {
      "needs_background": "light"
     },
     "output_type": "display_data"
    }
   ],
   "source": [
    "names = ['group_a', 'group_b', 'group_c']\n",
    "values = [1, 10, 100]\n",
    "\n",
    "plt.figure(figsize=(9, 3))\n",
    "\n",
    "plt.subplot(131)\n",
    "plt.bar(names, values)\n",
    "plt.subplot(132)\n",
    "plt.scatter(names, values)\n",
    "plt.subplot(133)\n",
    "plt.plot(names, values)\n",
    "plt.suptitle('Categorical Plotting')\n",
    "plt.show()"
   ]
  },
  {
   "cell_type": "code",
   "execution_count": 39,
   "metadata": {},
   "outputs": [
    {
     "name": "stdout",
     "output_type": "stream",
     "text": [
      "Hombres :  89681\n"
     ]
    }
   ],
   "source": [
    "hombres = ds_sin_vacios.apply(lambda x: True if x['SEXO'] == 1 else False , axis=1)\n",
    "hombres_numOfRows = len(hombres[hombres == True].index)\n",
    "print('Hombres : ', hombres_numOfRows)"
   ]
  },
  {
   "cell_type": "code",
   "execution_count": 40,
   "metadata": {},
   "outputs": [
    {
     "name": "stdout",
     "output_type": "stream",
     "text": [
      "Mujeres :  175027\n"
     ]
    }
   ],
   "source": [
    "mujeres = ds_sin_vacios.apply(lambda x: True if x['SEXO'] == 0 else False , axis=1)\n",
    "mujeres_numOfRows = len(mujeres[mujeres == True].index)\n",
    "print('Mujeres : ', mujeres_numOfRows)"
   ]
  },
  {
   "cell_type": "code",
   "execution_count": 42,
   "metadata": {},
   "outputs": [
    {
     "data": {
      "text/plain": [
       "0    175027\n",
       "1     89681\n",
       "Name: SEXO, dtype: int64"
      ]
     },
     "execution_count": 42,
     "metadata": {},
     "output_type": "execute_result"
    }
   ],
   "source": [
    "ds_sin_vacios['SEXO'].value_counts()"
   ]
  },
  {
   "cell_type": "code",
   "execution_count": 45,
   "metadata": {},
   "outputs": [
    {
     "data": {
      "image/png": "[encoded data removed]",
      "text/plain": [
       "<Figure size 432x288 with 1 Axes>"
      ]
     },
     "metadata": {
      "needs_background": "light"
     },
     "output_type": "display_data"
    }
   ],
   "source": [
    "names = ['Masculino', 'Femenino']\n",
    "values = [hombres_numOfRows, mujeres_numOfRows]\n",
    "plt.bar(names, values)\n",
    "plt.suptitle('Vacunados por Sexo')\n",
    "plt.show()"
   ]
  },
  {
   "cell_type": "code",
   "execution_count": null,
   "metadata": {},
   "outputs": [],
   "source": [
    "#Guardar archivo corregido\n",
    "ds_sin_vacios.to_csv(archivo_limpiado, index=False)"
   ]
  },
  {
   "cell_type": "code",
   "execution_count": null,
   "metadata": {},
   "outputs": [],
   "source": []
  }
 ],
 "metadata": {
  "kernelspec": {
   "display_name": "Python 3",
   "language": "python",
   "name": "python3"
  },
  "language_info": {
   "codemirror_mode": {
    "name": "ipython",
    "version": 3
   },
   "file_extension": ".py",
   "mimetype": "text/x-python",
   "name": "python",
   "nbconvert_exporter": "python",
   "pygments_lexer": "ipython3",
   "version": "3.8.5"
  }
 },
 "nbformat": 4,
 "nbformat_minor": 4
}
