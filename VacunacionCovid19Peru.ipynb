{
 "cells": [
  {
   "cell_type": "code",
   "execution_count": null,
   "metadata": {},
   "outputs": [],
   "source": [
    "import pandas as pd\n",
    "import matplotlib.pyplot as plt"
   ]
  },
  {
   "cell_type": "code",
   "execution_count": null,
   "metadata": {},
   "outputs": [],
   "source": [
    "archivo_original = 'vacunas_covid.csv'\n",
    "archivo_limpiado = 'vacunas_covid-limpio.csv'\n",
    "carpeta_imagenes = 'imagenes'"
   ]
  },
  {
   "cell_type": "code",
   "execution_count": null,
   "metadata": {},
   "outputs": [],
   "source": [
    "ds = pd.read_csv(archivo_original)\n",
    "ds.head()"
   ]
  },
  {
   "cell_type": "code",
   "execution_count": null,
   "metadata": {},
   "outputs": [],
   "source": [
    "ds.describe()"
   ]
  },
  {
   "cell_type": "code",
   "execution_count": null,
   "metadata": {},
   "outputs": [],
   "source": [
    "sin_edad = pd.isnull(ds['EDAD'])\n",
    "numOfRows = len(sin_edad[sin_edad == True].index)\n",
    "print('Personas sin edad : ', numOfRows)"
   ]
  },
  {
   "cell_type": "code",
   "execution_count": null,
   "metadata": {},
   "outputs": [],
   "source": [
    "sin_sexo = pd.isnull(ds['SEXO'])\n",
    "numOfRows = len(sin_sexo[sin_sexo == True].index)\n",
    "print('Personas sin sexo : ', numOfRows)"
   ]
  },
  {
   "cell_type": "code",
   "execution_count": null,
   "metadata": {},
   "outputs": [],
   "source": [
    "ds_sin_vacios = ds.dropna()"
   ]
  },
  {
   "cell_type": "code",
   "execution_count": null,
   "metadata": {},
   "outputs": [],
   "source": [
    "hombres = ds_sin_vacios.apply(lambda x: True if x['SEXO'] == 'MASCULINO' else False , axis=1)\n",
    "hombres_numOfRows = len(hombres[hombres == True].index)\n",
    "print('Hombres : ', hombres_numOfRows)"
   ]
  },
  {
   "cell_type": "code",
   "execution_count": null,
   "metadata": {},
   "outputs": [],
   "source": [
    "mujeres = ds_sin_vacios.apply(lambda x: True if x['SEXO'] == 'FEMENINO' else False , axis=1)\n",
    "mujeres_numOfRows = len(mujeres[mujeres == True].index)\n",
    "print('Mujeres : ', mujeres_numOfRows)"
   ]
  },
  {
   "cell_type": "code",
   "execution_count": null,
   "metadata": {},
   "outputs": [],
   "source": [
    "vacunas_por_sexo = ds_sin_vacios['SEXO'].value_counts()"
   ]
  },
  {
   "cell_type": "code",
   "execution_count": null,
   "metadata": {},
   "outputs": [],
   "source": [
    "names = vacunas_por_sexo.index\n",
    "values = vacunas_por_sexo.values\n",
    "plt.bar(names, values)\n",
    "plt.xlabel('Sexo')\n",
    "plt.ylabel('Vacunados')\n",
    "plt.suptitle('Vacunados por Sexo')\n",
    "plt.savefig(carpeta_imagenes + '/' + 'Vacunados por Sexo.png')\n",
    "plt.show()"
   ]
  },
  {
   "cell_type": "code",
   "execution_count": null,
   "metadata": {},
   "outputs": [],
   "source": [
    "vacunas_por_departamento = ds_sin_vacios['DEPARTAMENTO'].value_counts()\n",
    "print(type(vacunas_por_departamento))\n",
    "print(vacunas_por_departamento)"
   ]
  },
  {
   "cell_type": "code",
   "execution_count": null,
   "metadata": {},
   "outputs": [],
   "source": [
    "departamentos = vacunas_por_departamento.index\n",
    "print (departamentos)"
   ]
  },
  {
   "cell_type": "code",
   "execution_count": null,
   "metadata": {},
   "outputs": [],
   "source": [
    "values = vacunas_por_departamento.values\n",
    "print (values)"
   ]
  },
  {
   "cell_type": "code",
   "execution_count": null,
   "metadata": {},
   "outputs": [],
   "source": [
    "plt.figure(figsize=(12, 5))\n",
    "plt.bar(departamentos, values)\n",
    "\n",
    "plt.xticks(rotation=90)\n",
    "plt.xlabel('Departamento')\n",
    "plt.ylabel('Vacunados')\n",
    "plt.suptitle('Vacunados por Departamento')\n",
    "plt.savefig(carpeta_imagenes + '/' +'Vacunados por Departamento.png')\n",
    "plt.show()"
   ]
  },
  {
   "cell_type": "code",
   "execution_count": null,
   "metadata": {},
   "outputs": [],
   "source": [
    "for index, value in vacunas_por_departamento.items():\n",
    "    departamento = index\n",
    "    titulo = 'Vacunados por Provincia en ' + departamento\n",
    "    archivo = carpeta_imagenes + '/' + titulo + '.png'\n",
    "    son_vacunas_departamento = ds_sin_vacios['DEPARTAMENTO']== departamento\n",
    "    vacunas_departamento = ds_sin_vacios[son_vacunas_departamento]\n",
    "    vacunas_por_provincia = vacunas_departamento['PROVINCIA'].value_counts()\n",
    "    names = vacunas_por_provincia.index\n",
    "    values = vacunas_por_provincia.values\n",
    "    plt.figure(figsize=(12, 3))\n",
    "    plt.bar(names, values)\n",
    "    plt.xticks(rotation=90)\n",
    "    plt.xlabel('Provincia')\n",
    "    plt.ylabel('Vacunados')\n",
    "    plt.suptitle(titulo)\n",
    "    plt.savefig(archivo)\n",
    "    plt.show()"
   ]
  },
  {
   "cell_type": "code",
   "execution_count": null,
   "metadata": {},
   "outputs": [],
   "source": [
    "vacunas_por_grupo_riesgo = ds_sin_vacios['GRUPO_RIESGO'].value_counts()\n",
    "names = vacunas_por_grupo_riesgo.index\n",
    "values = vacunas_por_grupo_riesgo.values\n",
    "plt.figure(figsize=(12, 3))\n",
    "plt.bar(names, values)\n",
    "plt.xticks(rotation=90)\n",
    "plt.xlabel('Grupo')\n",
    "plt.ylabel('Vacunados')\n",
    "plt.suptitle('Vacunados por Grupo')\n",
    "plt.savefig(carpeta_imagenes + '/' + 'Vacunados por Grupo.png')\n",
    "plt.show()"
   ]
  },
  {
   "cell_type": "code",
   "execution_count": null,
   "metadata": {},
   "outputs": [],
   "source": [
    "#Guardar archivo corregido\n",
    "ds_sin_vacios.to_csv(archivo_limpiado, index=False)"
   ]
  },
  {
   "cell_type": "code",
   "execution_count": null,
   "metadata": {},
   "outputs": [],
   "source": []
  }
 ],
 "metadata": {
  "kernelspec": {
   "display_name": "Python 3",
   "language": "python",
   "name": "python3"
  },
  "language_info": {
   "codemirror_mode": {
    "name": "ipython",
    "version": 3
   },
   "file_extension": ".py",
   "mimetype": "text/x-python",
   "name": "python",
   "nbconvert_exporter": "python",
   "pygments_lexer": "ipython3",
   "version": "3.8.5"
  }
 },
 "nbformat": 4,
 "nbformat_minor": 4
}
